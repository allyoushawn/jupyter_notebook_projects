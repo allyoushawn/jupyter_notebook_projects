{
 "cells": [
  {
   "cell_type": "code",
   "execution_count": 2,
   "id": "d46f6885-a337-40dc-85c2-eb250800838a",
   "metadata": {},
   "outputs": [],
   "source": [
    "import numpy as np\n",
    "import torch\n",
    "import torch.nn as nn\n",
    "import torch.optim as optim\n",
    "from causalml.dataset import synthetic_data\n",
    "from sklearn.model_selection import train_test_split\n",
    "from sklearn.preprocessing import StandardScaler\n",
    "from causalml.inference.tree.causal.causalforest import CausalRandomForestRegressor"
   ]
  },
  {
   "cell_type": "code",
   "execution_count": 3,
   "id": "e5e4062a-f352-47fd-9ae5-d27c7e9a026e",
   "metadata": {},
   "outputs": [
    {
     "name": "stdout",
     "output_type": "stream",
     "text": [
      "X_train shape: torch.Size([800, 5]), y_train shape: torch.Size([800, 1]), w_train shape: torch.Size([800, 1])\n",
      "tau_train shape: torch.Size([800])\n"
     ]
    }
   ],
   "source": [
    "# Load synthetic dataset using updated API\n",
    "y, X, w, tau, b, e = synthetic_data(mode=1, n=1000, p=5, sigma=1.0, adj=0.0)\n",
    "\n",
    "# Split into train and test sets\n",
    "X_train, X_test, y_train, y_test, w_train, w_test, tau_train, tau_test = train_test_split(\n",
    "    X, y, w, tau, test_size=0.2, random_state=42\n",
    ")\n",
    "\n",
    "# Normalize features\n",
    "scaler = StandardScaler()\n",
    "X_train = scaler.fit_transform(X_train)\n",
    "X_test = scaler.transform(X_test)\n",
    "\n",
    "# Convert to PyTorch tensors\n",
    "X_train, X_test = torch.tensor(X_train, dtype=torch.float32), torch.tensor(X_test, dtype=torch.float32)\n",
    "y_train, y_test = torch.tensor(y_train, dtype=torch.float32).unsqueeze(1), torch.tensor(y_test, dtype=torch.float32).unsqueeze(1)\n",
    "w_train, w_test = torch.tensor(w_train, dtype=torch.float32).unsqueeze(1), torch.tensor(w_test, dtype=torch.float32).unsqueeze(1)\n",
    "tau_train, tau_test = torch.tensor(tau_train, dtype=torch.float32), torch.tensor(tau_test, dtype=torch.float32)\n",
    "\n",
    "# Print dataset shapes to verify\n",
    "print(f\"X_train shape: {X_train.shape}, y_train shape: {y_train.shape}, w_train shape: {w_train.shape}\")\n",
    "print(f\"tau_train shape: {tau_train.shape}\")"
   ]
  },
  {
   "cell_type": "code",
   "execution_count": 4,
   "id": "78d9ac14-9eb3-45ab-8087-d770211a774b",
   "metadata": {},
   "outputs": [],
   "source": [
    "class DragonNet(nn.Module):\n",
    "    def __init__(self, input_dim):\n",
    "        super(DragonNet, self).__init__()\n",
    "        \n",
    "        # Shared representation layers\n",
    "        self.shared = nn.Sequential(\n",
    "            nn.Linear(input_dim, 200),\n",
    "            nn.ELU(),\n",
    "            nn.Linear(200, 100),\n",
    "            nn.ELU(),\n",
    "            nn.Linear(100, 100),\n",
    "            nn.ELU()\n",
    "        )\n",
    "        \n",
    "        # Treatment prediction head (Propensity Score)\n",
    "        self.propensity_head = nn.Sequential(\n",
    "            nn.Linear(100, 1),\n",
    "            nn.Sigmoid()\n",
    "        )\n",
    "        \n",
    "        # Outcome prediction heads\n",
    "        self.outcome_head_0 = nn.Sequential(nn.Linear(100, 1))  # Y(0)\n",
    "        self.outcome_head_1 = nn.Sequential(nn.Linear(100, 1))  # Y(1)\n",
    "\n",
    "\n",
    "        # Learnable epsilon (initialized small)\n",
    "        self.epsilon = nn.Parameter(torch.tensor(1e-6))\n",
    "\n",
    "    def forward(self, x):\n",
    "        representation = self.shared(x)\n",
    "        \n",
    "        # Predict treatment probability\n",
    "        e_x = self.propensity_head(representation)\n",
    "        \n",
    "        # Predict potential outcomes\n",
    "        y0 = self.outcome_head_0(representation)\n",
    "        y1 = self.outcome_head_1(representation)\n",
    "        \n",
    "        return e_x, y0, y1\n"
   ]
  },
  {
   "cell_type": "code",
   "execution_count": 5,
   "id": "fa20f130-b648-4220-af0a-0a89e3b11dd5",
   "metadata": {},
   "outputs": [],
   "source": [
    "def make_regression_loss(y_0_pred, y_1_pred, y_true, t_true):\n",
    "    \n",
    "    loss0 = (1 - t_true) * torch.square(y_0_pred - y_true)\n",
    "    loss1 = t_true * torch.square(y_1_pred - y_true)\n",
    "    loss = loss0 + loss1\n",
    "    return torch.mean(loss)\n",
    "\n",
    "def make_binary_classification_loss(t_pred, t_true):\n",
    "    return nn.BCELoss()(t_pred, t_true)\n",
    "\n",
    "def make_targeted_regularization_loss(e_x, y0_pred, y1_pred, Y, T, epsilon):\n",
    "    \"\"\" Computes the doubly robust loss \"\"\"\n",
    "    \n",
    "    # Compute predicted outcome based on treatment\n",
    "    y_pred = T * y1_pred + (1 - T) * y0_pred\n",
    "\n",
    "    \n",
    "    # Compute inverse probability weights\n",
    "    e_x = torch.clamp(e_x, 1e-6, 1 - 1e-6)  # Avoid division by zero\n",
    "    weight = (T - e_x) / (e_x * (1 - e_x))\n",
    "\n",
    "\n",
    "    # Compute y_pred_tilde (corrected y_pred with propsensity scores)\n",
    "    y_pred_tilde = y_pred + epsilon * weight\n",
    "    \n",
    "    # Targeted regularization loss\n",
    "    t_loss = torch.mean((Y-y_pred_tilde) ** 2)\n",
    "    \n",
    "    return t_loss\n"
   ]
  },
  {
   "cell_type": "code",
   "execution_count": 6,
   "id": "9a782e5b-7d45-4c0f-98e9-ad76745494c9",
   "metadata": {},
   "outputs": [
    {
     "name": "stdout",
     "output_type": "stream",
     "text": [
      "Epoch 0: Loss = 3.8227,          regression loss: 3.4107,         bce loss: 0.7088,         t_loss: 3.4107,         epsilon: 0.0010,         \n",
      "Epoch 10: Loss = 1.4440,          regression loss: 1.2529,         bce loss: 0.6559,         t_loss: 1.2550,         epsilon: 0.0098,         \n",
      "Epoch 20: Loss = 1.3497,          regression loss: 1.1680,         bce loss: 0.6495,         t_loss: 1.1670,         epsilon: 0.0116,         \n",
      "Epoch 30: Loss = 1.3362,          regression loss: 1.1557,         bce loss: 0.6499,         t_loss: 1.1553,         epsilon: 0.0126,         \n",
      "Epoch 40: Loss = 1.3214,          regression loss: 1.1435,         bce loss: 0.6337,         t_loss: 1.1453,         epsilon: 0.0123,         \n",
      "Epoch 50: Loss = 1.3084,          regression loss: 1.1341,         bce loss: 0.6099,         t_loss: 1.1332,         epsilon: 0.0111,         \n",
      "Epoch 60: Loss = 1.2959,          regression loss: 1.1251,         bce loss: 0.5820,         t_loss: 1.1261,         epsilon: 0.0105,         \n",
      "Epoch 70: Loss = 1.2835,          regression loss: 1.1164,         bce loss: 0.5554,         t_loss: 1.1159,         epsilon: 0.0093,         \n",
      "Epoch 80: Loss = 1.2703,          regression loss: 1.1063,         bce loss: 0.5336,         t_loss: 1.1065,         epsilon: 0.0087,         \n",
      "Epoch 90: Loss = 1.2563,          regression loss: 1.0951,         bce loss: 0.5175,         t_loss: 1.0947,         epsilon: 0.0080,         \n"
     ]
    }
   ],
   "source": [
    "# Initialize model\n",
    "input_dim = X_train.shape[1]\n",
    "model = DragonNet(input_dim)\n",
    "\n",
    "# Optimizer\n",
    "optimizer = optim.Adam(model.parameters(), lr=0.001)\n",
    "\n",
    "# hyper-praameter\n",
    "alpha = 0.1\n",
    "beta = 0.1\n",
    "\n",
    "# Training loop\n",
    "num_epochs = 100\n",
    "for epoch in range(num_epochs):\n",
    "    model.train()\n",
    "    optimizer.zero_grad()\n",
    "    \n",
    "    # Forward pass\n",
    "    e_x, y_0_pred, y_1_pred = model(X_train)\n",
    "    \n",
    "    # Compute loss\n",
    "    regression_loss = make_regression_loss(y_0_pred, y_1_pred, y_train, w_train)\n",
    "    bce_loss = make_binary_classification_loss(e_x, w_train)\n",
    "    vanila_loss = regression_loss + alpha * bce_loss\n",
    "    \n",
    "    t_loss = make_targeted_regularization_loss(e_x, y_0_pred, y_1_pred, y_train, w_train, model.epsilon)\n",
    "    loss = vanila_loss + beta * t_loss\n",
    "    \n",
    "    \n",
    "    # Backward pass\n",
    "    loss.backward()\n",
    "    optimizer.step()\n",
    "    \n",
    "    if epoch % 10 == 0:\n",
    "        print(f\"Epoch {epoch}: Loss = {loss.item():.4f},  \\\n",
    "        regression loss: {regression_loss.item():.4f}, \\\n",
    "        bce loss: {bce_loss.item():.4f}, \\\n",
    "        t_loss: {t_loss.item():.4f}, \\\n",
    "        epsilon: {model.epsilon.item():.4f}, \\\n",
    "        \")\n"
   ]
  },
  {
   "cell_type": "code",
   "execution_count": 7,
   "id": "9fc3d9b6-9ee4-494f-be94-4e23ff847d91",
   "metadata": {},
   "outputs": [
    {
     "data": {
      "text/plain": [
       "31704"
      ]
     },
     "execution_count": 7,
     "metadata": {},
     "output_type": "execute_result"
    }
   ],
   "source": [
    "sum(p.numel() for p in model.parameters())"
   ]
  },
  {
   "cell_type": "code",
   "execution_count": 67,
   "id": "b8bef1d4-3311-4146-8cdc-7fd95afa5704",
   "metadata": {},
   "outputs": [
    {
     "name": "stdout",
     "output_type": "stream",
     "text": [
      "Mean Absolute Error in Treatment Effect Estimation: 0.2703\n"
     ]
    }
   ],
   "source": [
    "model.eval()\n",
    "with torch.no_grad():\n",
    "    e_x_test, y0_pred_test, y1_pred_test = model(X_test)\n",
    "\n",
    "    # Estimate Individual Treatment Effects (ITE)\n",
    "    tau_hat = (y1_pred_test - y0_pred_test).squeeze().numpy()\n",
    "\n",
    "    # Compute Mean Absolute Error\n",
    "    mae = np.mean(np.abs(tau_hat - tau_test.numpy()))\n",
    "    print(f\"Mean Absolute Error in Treatment Effect Estimation: {mae:.4f}\")\n"
   ]
  },
  {
   "cell_type": "code",
   "execution_count": 35,
   "id": "805b16f5-4b51-41fc-8ab0-73961bb9feaa",
   "metadata": {},
   "outputs": [
    {
     "data": {
      "text/plain": [
       "CausalRandomForestRegressor(min_samples_leaf=5)"
      ]
     },
     "execution_count": 35,
     "metadata": {},
     "output_type": "execute_result"
    }
   ],
   "source": [
    "# Train Causal Forest using the same synthetic data\n",
    "causal_forest = CausalRandomForestRegressor(n_estimators=100, min_samples_leaf=5)\n",
    "causal_forest.fit(X=X_train.numpy(), treatment=w_train.numpy().squeeze(), y=y_train.numpy().squeeze())"
   ]
  },
  {
   "cell_type": "code",
   "execution_count": 37,
   "id": "55ad25b9-d1cb-4b65-8e8d-466e21180225",
   "metadata": {},
   "outputs": [
    {
     "name": "stdout",
     "output_type": "stream",
     "text": [
      "Mean Absolute Error in Treatment Effect Estimation: 0.5114\n"
     ]
    }
   ],
   "source": [
    "# Estimate treatment effects with Causal Forest\n",
    "tau_hat_cf = causal_forest.predict(X_test.numpy())\n",
    "\n",
    "# Compute Mean Absolute Error\n",
    "mae = np.mean(np.abs(tau_hat_cf - tau_test.numpy()))\n",
    "print(f\"Mean Absolute Error in Treatment Effect Estimation: {mae:.4f}\")"
   ]
  },
  {
   "cell_type": "markdown",
   "id": "5453d76d-b0ab-4744-aee3-36ef1fcaf393",
   "metadata": {},
   "source": [
    "# Training dragon on larger size of dataset leverage torch.dataset"
   ]
  },
  {
   "cell_type": "code",
   "execution_count": 73,
   "id": "2c57ca47-09d4-43e4-a342-a7d12e852efc",
   "metadata": {},
   "outputs": [
    {
     "name": "stdout",
     "output_type": "stream",
     "text": [
      "Using device: cpu\n",
      "Step 50: Loss = 1.2153, regression loss: 1.0472, bce loss: 0.6365, t_loss: 1.0444, epsilon: 0.0079\n",
      "Step 100: Loss = 1.1611, regression loss: 1.0060, bce loss: 0.5461, t_loss: 1.0049, epsilon: 0.0047\n",
      "Step 150: Loss = 1.1649, regression loss: 1.0099, bce loss: 0.5392, t_loss: 1.0106, epsilon: 0.0050\n",
      "Step 200: Loss = 1.2987, regression loss: 1.1284, bce loss: 0.5745, t_loss: 1.1287, epsilon: 0.0037\n",
      "Step 250: Loss = 1.1792, regression loss: 1.0241, bce loss: 0.5287, t_loss: 1.0224, epsilon: 0.0092\n",
      "Step 300: Loss = 1.1184, regression loss: 0.9688, bce loss: 0.5269, t_loss: 0.9687, epsilon: 0.0034\n",
      "Step 350: Loss = 1.1700, regression loss: 1.0140, bce loss: 0.5455, t_loss: 1.0152, epsilon: 0.0049\n",
      "Step 400: Loss = 1.1610, regression loss: 1.0075, bce loss: 0.5277, t_loss: 1.0071, epsilon: 0.0037\n",
      "Step 450: Loss = 1.1284, regression loss: 0.9778, bce loss: 0.5307, t_loss: 0.9757, epsilon: 0.0058\n",
      "Step 500: Loss = 1.2342, regression loss: 1.0790, bce loss: 0.4718, t_loss: 1.0804, epsilon: 0.0046\n",
      "Step 550: Loss = 1.2473, regression loss: 1.0880, bce loss: 0.5057, t_loss: 1.0878, epsilon: 0.0025\n",
      "Step 600: Loss = 1.2783, regression loss: 1.1141, bce loss: 0.5278, t_loss: 1.1136, epsilon: 0.0037\n",
      "Step 650: Loss = 1.1197, regression loss: 0.9722, bce loss: 0.5017, t_loss: 0.9725, epsilon: 0.0050\n",
      "Step 700: Loss = 1.0632, regression loss: 0.9214, bce loss: 0.4971, t_loss: 0.9210, epsilon: 0.0011\n",
      "Step 750: Loss = 1.0690, regression loss: 0.9301, bce loss: 0.4594, t_loss: 0.9295, epsilon: 0.0016\n",
      "\n",
      "Mean Absolute Error for DragonNet: 0.0578\n"
     ]
    }
   ],
   "source": [
    "import numpy as np\n",
    "import torch\n",
    "import torch.nn as nn\n",
    "import torch.optim as optim\n",
    "from torch.utils.data import Dataset, DataLoader\n",
    "from sklearn.model_selection import train_test_split\n",
    "from sklearn.preprocessing import StandardScaler\n",
    "from causalml.dataset import synthetic_data\n",
    "from sklearn.metrics import mean_absolute_error\n",
    "\n",
    "# Check for GPU\n",
    "device = torch.device(\"cuda\" if torch.cuda.is_available() else \"cpu\")\n",
    "print(f\"Using device: {device}\")\n",
    "\n",
    "# Load synthetic dataset with larger sample size\n",
    "y, X, w, tau, b, e = synthetic_data(mode=1, n=50000, p=10, sigma=1.0, adj=0.0)  # Increased dataset size\n",
    "\n",
    "# Split into train and test sets\n",
    "X_train, X_test, y_train, y_test, w_train, w_test, tau_train, tau_test = train_test_split(\n",
    "    X, y, w, tau, test_size=0.2, random_state=42\n",
    ")\n",
    "\n",
    "# Normalize features\n",
    "scaler = StandardScaler()\n",
    "X_train = scaler.fit_transform(X_train)\n",
    "X_test = scaler.transform(X_test)\n",
    "\n",
    "# Convert to PyTorch tensors\n",
    "X_train, X_test = torch.tensor(X_train, dtype=torch.float32), torch.tensor(X_test, dtype=torch.float32)\n",
    "y_train, y_test = torch.tensor(y_train, dtype=torch.float32).unsqueeze(1), torch.tensor(y_test, dtype=torch.float32).unsqueeze(1)\n",
    "w_train, w_test = torch.tensor(w_train, dtype=torch.float32).unsqueeze(1), torch.tensor(w_test, dtype=torch.float32).unsqueeze(1)\n",
    "tau_train, tau_test = torch.tensor(tau_train, dtype=torch.float32), torch.tensor(tau_test, dtype=torch.float32)\n",
    "\n",
    "# --- PyTorch Dataset & DataLoader ---\n",
    "class CausalDataset(Dataset):\n",
    "    def __init__(self, X, y, w):\n",
    "        self.X = X\n",
    "        self.y = y\n",
    "        self.w = w\n",
    "\n",
    "    def __len__(self):\n",
    "        return len(self.X)\n",
    "\n",
    "    def __getitem__(self, idx):\n",
    "        return self.X[idx], self.y[idx], self.w[idx]\n",
    "\n",
    "# Create data loaders for mini-batch training\n",
    "batch_size = 512\n",
    "train_dataset = CausalDataset(X_train, y_train, w_train)\n",
    "test_dataset = CausalDataset(X_test, y_test, w_test)\n",
    "\n",
    "train_loader = DataLoader(train_dataset, batch_size=batch_size, shuffle=True)\n",
    "test_loader = DataLoader(test_dataset, batch_size=batch_size, shuffle=False)\n",
    "\n",
    "\n",
    "\n",
    "# Initialize model\n",
    "input_dim = X_train.shape[1]\n",
    "model = DragonNet(input_dim).to(device)\n",
    "\n",
    "# Optimizer and loss function\n",
    "optimizer = optim.Adam(model.parameters(), lr=0.001)\n",
    "\n",
    "# --- Train DragonNet with Mini-batch Training ---\n",
    "num_epochs = 10\n",
    "alpha = 0.1\n",
    "beta = 0.1\n",
    "step = 0\n",
    "for epoch in range(num_epochs):\n",
    "    model.train()\n",
    "    total_loss = 0\n",
    "\n",
    "    for batch_X, batch_y, batch_w in train_loader:\n",
    "        batch_X, batch_y, batch_w = batch_X.to(device), batch_y.to(device), batch_w.to(device)\n",
    "\n",
    "        optimizer.zero_grad()\n",
    "        # Forward pass\n",
    "        e_x, y_0_pred, y_1_pred = model(batch_X)\n",
    "        \n",
    "        # Compute loss\n",
    "        regression_loss = make_regression_loss(y_0_pred, y_1_pred, batch_y, batch_w)\n",
    "        bce_loss = make_binary_classification_loss(e_x, batch_w)\n",
    "        vanila_loss = regression_loss + alpha * bce_loss\n",
    "        \n",
    "        t_loss = make_targeted_regularization_loss(e_x, y_0_pred, y_1_pred, batch_y, batch_w, model.epsilon)\n",
    "        loss = vanila_loss + beta * t_loss\n",
    "    \n",
    "        loss.backward()\n",
    "        optimizer.step()\n",
    "        step += 1\n",
    "\n",
    "        if step % 50 == 0:\n",
    "            print(f\"Step {step}: Loss = {loss.item():.4f}, regression loss: {regression_loss.item():.4f}, bce loss: {bce_loss.item():.4f}, t_loss: {t_loss.item():.4f}, epsilon: {model.epsilon.item():.4f}\")\n",
    "\n",
    "# --- Evaluate DragonNet ---\n",
    "model.eval()\n",
    "tau_hat_dragonnet = []\n",
    "\n",
    "with torch.no_grad():\n",
    "    for batch_X, _, _ in test_loader:\n",
    "        batch_X = batch_X.to(device)\n",
    "        e_x_test, y0_pred_test, y1_pred_test = model(batch_X)\n",
    "        tau_hat_dragonnet.extend((y1_pred_test - y0_pred_test).cpu().numpy())\n",
    "\n",
    "tau_hat_dragonnet = np.array(tau_hat_dragonnet).flatten()\n",
    "\n",
    "# --- Compare with True Treatment Effects ---\n",
    "mae_dragonnet = mean_absolute_error(tau_test, tau_hat_dragonnet)\n",
    "print(f\"\\nMean Absolute Error for DragonNet: {mae_dragonnet:.4f}\")\n"
   ]
  },
  {
   "cell_type": "code",
   "execution_count": null,
   "id": "c9ef1712-3229-4de3-8ee9-6c624217ba67",
   "metadata": {},
   "outputs": [],
   "source": []
  }
 ],
 "metadata": {
  "kernelspec": {
   "display_name": "Python 3 (ipykernel)",
   "language": "python",
   "name": "python3"
  },
  "language_info": {
   "codemirror_mode": {
    "name": "ipython",
    "version": 3
   },
   "file_extension": ".py",
   "mimetype": "text/x-python",
   "name": "python",
   "nbconvert_exporter": "python",
   "pygments_lexer": "ipython3",
   "version": "3.9.6"
  }
 },
 "nbformat": 4,
 "nbformat_minor": 5
}
