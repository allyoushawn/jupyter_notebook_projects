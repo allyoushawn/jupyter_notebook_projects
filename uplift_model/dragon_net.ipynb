{
 "cells": [
  {
   "cell_type": "code",
   "execution_count": 23,
   "id": "d46f6885-a337-40dc-85c2-eb250800838a",
   "metadata": {},
   "outputs": [],
   "source": [
    "import numpy as np\n",
    "import torch\n",
    "import torch.nn as nn\n",
    "import torch.optim as optim\n",
    "from causalml.dataset import synthetic_data\n",
    "from sklearn.model_selection import train_test_split\n",
    "from sklearn.preprocessing import StandardScaler\n",
    "from causalml.inference.tree.causal.causalforest import CausalRandomForestRegressor"
   ]
  },
  {
   "cell_type": "code",
   "execution_count": 12,
   "id": "e5e4062a-f352-47fd-9ae5-d27c7e9a026e",
   "metadata": {},
   "outputs": [
    {
     "name": "stdout",
     "output_type": "stream",
     "text": [
      "X_train shape: torch.Size([800, 5]), y_train shape: torch.Size([800, 1]), w_train shape: torch.Size([800, 1])\n",
      "tau_train shape: torch.Size([800])\n"
     ]
    }
   ],
   "source": [
    "# Load synthetic dataset using updated API\n",
    "y, X, w, tau, b, e = synthetic_data(mode=1, n=1000, p=5, sigma=1.0, adj=0.0)\n",
    "\n",
    "# Split into train and test sets\n",
    "X_train, X_test, y_train, y_test, w_train, w_test, tau_train, tau_test = train_test_split(\n",
    "    X, y, w, tau, test_size=0.2, random_state=42\n",
    ")\n",
    "\n",
    "# Normalize features\n",
    "scaler = StandardScaler()\n",
    "X_train = scaler.fit_transform(X_train)\n",
    "X_test = scaler.transform(X_test)\n",
    "\n",
    "# Convert to PyTorch tensors\n",
    "X_train, X_test = torch.tensor(X_train, dtype=torch.float32), torch.tensor(X_test, dtype=torch.float32)\n",
    "y_train, y_test = torch.tensor(y_train, dtype=torch.float32).unsqueeze(1), torch.tensor(y_test, dtype=torch.float32).unsqueeze(1)\n",
    "w_train, w_test = torch.tensor(w_train, dtype=torch.float32).unsqueeze(1), torch.tensor(w_test, dtype=torch.float32).unsqueeze(1)\n",
    "tau_train, tau_test = torch.tensor(tau_train, dtype=torch.float32), torch.tensor(tau_test, dtype=torch.float32)\n",
    "\n",
    "# Print dataset shapes to verify\n",
    "print(f\"X_train shape: {X_train.shape}, y_train shape: {y_train.shape}, w_train shape: {w_train.shape}\")\n",
    "print(f\"tau_train shape: {tau_train.shape}\")"
   ]
  },
  {
   "cell_type": "code",
   "execution_count": 13,
   "id": "78d9ac14-9eb3-45ab-8087-d770211a774b",
   "metadata": {},
   "outputs": [],
   "source": [
    "class DragonNet(nn.Module):\n",
    "    def __init__(self, input_dim):\n",
    "        super(DragonNet, self).__init__()\n",
    "        \n",
    "        # Shared representation layers\n",
    "        self.shared = nn.Sequential(\n",
    "            nn.Linear(input_dim, 200),\n",
    "            nn.ReLU(),\n",
    "            nn.Linear(200, 100),\n",
    "            nn.ReLU(),\n",
    "            nn.Linear(100, 100),\n",
    "            nn.ReLU()\n",
    "        )\n",
    "        \n",
    "        # Treatment prediction head (Propensity Score)\n",
    "        self.propensity_head = nn.Sequential(\n",
    "            nn.Linear(100, 1),\n",
    "            nn.Sigmoid()\n",
    "        )\n",
    "        \n",
    "        # Outcome prediction heads\n",
    "        self.outcome_head_0 = nn.Sequential(nn.Linear(100, 1))  # Y(0)\n",
    "        self.outcome_head_1 = nn.Sequential(nn.Linear(100, 1))  # Y(1)\n",
    "\n",
    "    def forward(self, x):\n",
    "        representation = self.shared(x)\n",
    "        \n",
    "        # Predict treatment probability\n",
    "        e_x = self.propensity_head(representation)\n",
    "        \n",
    "        # Predict potential outcomes\n",
    "        y0 = self.outcome_head_0(representation)\n",
    "        y1 = self.outcome_head_1(representation)\n",
    "        \n",
    "        return e_x, y0, y1\n"
   ]
  },
  {
   "cell_type": "code",
   "execution_count": 14,
   "id": "fa20f130-b648-4220-af0a-0a89e3b11dd5",
   "metadata": {},
   "outputs": [],
   "source": [
    "def targeted_regularization_loss(e_x, y0_pred, y1_pred, Y, T):\n",
    "    \"\"\" Computes the doubly robust loss \"\"\"\n",
    "    \n",
    "    # Compute predicted outcome based on treatment\n",
    "    y_pred = T * y1_pred + (1 - T) * y0_pred\n",
    "    \n",
    "    # Compute residuals\n",
    "    residual = Y - y_pred\n",
    "    \n",
    "    # Compute inverse probability weights\n",
    "    e_x = torch.clamp(e_x, 1e-6, 1 - 1e-6)  # Avoid division by zero\n",
    "    weight = (T - e_x) / (e_x * (1 - e_x))\n",
    "    \n",
    "    # Targeted regularization loss\n",
    "    t_loss = torch.mean((residual - weight * residual) ** 2)\n",
    "    \n",
    "    return t_loss\n"
   ]
  },
  {
   "cell_type": "code",
   "execution_count": 16,
   "id": "9a782e5b-7d45-4c0f-98e9-ad76745494c9",
   "metadata": {},
   "outputs": [
    {
     "name": "stdout",
     "output_type": "stream",
     "text": [
      "Epoch 0: Loss = 10.9957\n",
      "Epoch 10: Loss = 6.2082\n",
      "Epoch 20: Loss = 4.4125\n",
      "Epoch 30: Loss = 3.9409\n",
      "Epoch 40: Loss = 3.7250\n",
      "Epoch 50: Loss = 3.5626\n",
      "Epoch 60: Loss = 3.4240\n",
      "Epoch 70: Loss = 3.2883\n",
      "Epoch 80: Loss = 3.1457\n",
      "Epoch 90: Loss = 2.9960\n"
     ]
    }
   ],
   "source": [
    "# Initialize model\n",
    "input_dim = X_train.shape[1]\n",
    "model = DragonNet(input_dim)\n",
    "\n",
    "# Optimizer\n",
    "optimizer = optim.Adam(model.parameters(), lr=0.001)\n",
    "\n",
    "# Training loop\n",
    "num_epochs = 100\n",
    "for epoch in range(num_epochs):\n",
    "    model.train()\n",
    "    optimizer.zero_grad()\n",
    "    \n",
    "    # Forward pass\n",
    "    e_x, y0_pred, y1_pred = model(X_train)\n",
    "    \n",
    "    # Compute loss\n",
    "    loss = targeted_regularization_loss(e_x, y0_pred, y1_pred, y_train, w_train)\n",
    "    \n",
    "    # Backward pass\n",
    "    loss.backward()\n",
    "    optimizer.step()\n",
    "    \n",
    "    if epoch % 10 == 0:\n",
    "        print(f\"Epoch {epoch}: Loss = {loss.item():.4f}\")\n"
   ]
  },
  {
   "cell_type": "code",
   "execution_count": 19,
   "id": "b8bef1d4-3311-4146-8cdc-7fd95afa5704",
   "metadata": {},
   "outputs": [
    {
     "name": "stdout",
     "output_type": "stream",
     "text": [
      "Mean Absolute Error in Treatment Effect Estimation: 0.3087\n"
     ]
    }
   ],
   "source": [
    "model.eval()\n",
    "with torch.no_grad():\n",
    "    e_x_test, y0_pred_test, y1_pred_test = model(X_test)\n",
    "\n",
    "    # Estimate Individual Treatment Effects (ITE)\n",
    "    tau_hat = (y1_pred_test - y0_pred_test).squeeze().numpy()\n",
    "\n",
    "    # Compute Mean Absolute Error\n",
    "    mae = np.mean(np.abs(tau_hat - tau_test.numpy()))\n",
    "    print(f\"Mean Absolute Error in Treatment Effect Estimation: {mae:.4f}\")\n"
   ]
  },
  {
   "cell_type": "code",
   "execution_count": 35,
   "id": "805b16f5-4b51-41fc-8ab0-73961bb9feaa",
   "metadata": {},
   "outputs": [
    {
     "data": {
      "text/plain": [
       "CausalRandomForestRegressor(min_samples_leaf=5)"
      ]
     },
     "execution_count": 35,
     "metadata": {},
     "output_type": "execute_result"
    }
   ],
   "source": [
    "# Train Causal Forest using the same synthetic data\n",
    "causal_forest = CausalRandomForestRegressor(n_estimators=100, min_samples_leaf=5)\n",
    "causal_forest.fit(X=X_train.numpy(), treatment=w_train.numpy().squeeze(), y=y_train.numpy().squeeze())"
   ]
  },
  {
   "cell_type": "code",
   "execution_count": 37,
   "id": "55ad25b9-d1cb-4b65-8e8d-466e21180225",
   "metadata": {},
   "outputs": [
    {
     "name": "stdout",
     "output_type": "stream",
     "text": [
      "Mean Absolute Error in Treatment Effect Estimation: 0.5114\n"
     ]
    }
   ],
   "source": [
    "# Estimate treatment effects with Causal Forest\n",
    "tau_hat_cf = causal_forest.predict(X_test.numpy())\n",
    "\n",
    "# Compute Mean Absolute Error\n",
    "mae = np.mean(np.abs(tau_hat_cf - tau_test.numpy()))\n",
    "print(f\"Mean Absolute Error in Treatment Effect Estimation: {mae:.4f}\")"
   ]
  },
  {
   "cell_type": "markdown",
   "id": "5453d76d-b0ab-4744-aee3-36ef1fcaf393",
   "metadata": {},
   "source": [
    "# Training dragon on larger size of dataset leverage torch.dataset"
   ]
  },
  {
   "cell_type": "code",
   "execution_count": 38,
   "id": "2c57ca47-09d4-43e4-a342-a7d12e852efc",
   "metadata": {},
   "outputs": [
    {
     "name": "stdout",
     "output_type": "stream",
     "text": [
      "Using device: cpu\n",
      "Epoch 0: Avg Loss = 5.3966\n",
      "Epoch 5: Avg Loss = 4.0397\n",
      "Epoch 10: Avg Loss = 3.9471\n",
      "Epoch 15: Avg Loss = 3.9092\n",
      "Epoch 20: Avg Loss = 3.8412\n",
      "Epoch 25: Avg Loss = 3.7804\n",
      "Epoch 30: Avg Loss = 3.7204\n",
      "Epoch 35: Avg Loss = 3.6686\n",
      "Epoch 40: Avg Loss = 3.5618\n",
      "Epoch 45: Avg Loss = 3.4963\n",
      "\n",
      "Mean Absolute Error for DragonNet: 0.2820\n"
     ]
    }
   ],
   "source": [
    "import numpy as np\n",
    "import torch\n",
    "import torch.nn as nn\n",
    "import torch.optim as optim\n",
    "from torch.utils.data import Dataset, DataLoader\n",
    "from sklearn.model_selection import train_test_split\n",
    "from sklearn.preprocessing import StandardScaler\n",
    "from causalml.dataset import synthetic_data\n",
    "from sklearn.metrics import mean_absolute_error\n",
    "\n",
    "# Check for GPU\n",
    "device = torch.device(\"cuda\" if torch.cuda.is_available() else \"cpu\")\n",
    "print(f\"Using device: {device}\")\n",
    "\n",
    "# Load synthetic dataset with larger sample size\n",
    "y, X, w, tau, b, e = synthetic_data(mode=1, n=50000, p=10, sigma=1.0, adj=0.0)  # Increased dataset size\n",
    "\n",
    "# Split into train and test sets\n",
    "X_train, X_test, y_train, y_test, w_train, w_test, tau_train, tau_test = train_test_split(\n",
    "    X, y, w, tau, test_size=0.2, random_state=42\n",
    ")\n",
    "\n",
    "# Normalize features\n",
    "scaler = StandardScaler()\n",
    "X_train = scaler.fit_transform(X_train)\n",
    "X_test = scaler.transform(X_test)\n",
    "\n",
    "# Convert to PyTorch tensors\n",
    "X_train, X_test = torch.tensor(X_train, dtype=torch.float32), torch.tensor(X_test, dtype=torch.float32)\n",
    "y_train, y_test = torch.tensor(y_train, dtype=torch.float32).unsqueeze(1), torch.tensor(y_test, dtype=torch.float32).unsqueeze(1)\n",
    "w_train, w_test = torch.tensor(w_train, dtype=torch.float32).unsqueeze(1), torch.tensor(w_test, dtype=torch.float32).unsqueeze(1)\n",
    "tau_train, tau_test = torch.tensor(tau_train, dtype=torch.float32), torch.tensor(tau_test, dtype=torch.float32)\n",
    "\n",
    "# --- PyTorch Dataset & DataLoader ---\n",
    "class CausalDataset(Dataset):\n",
    "    def __init__(self, X, y, w):\n",
    "        self.X = X\n",
    "        self.y = y\n",
    "        self.w = w\n",
    "\n",
    "    def __len__(self):\n",
    "        return len(self.X)\n",
    "\n",
    "    def __getitem__(self, idx):\n",
    "        return self.X[idx], self.y[idx], self.w[idx]\n",
    "\n",
    "# Create data loaders for mini-batch training\n",
    "batch_size = 512\n",
    "train_dataset = CausalDataset(X_train, y_train, w_train)\n",
    "test_dataset = CausalDataset(X_test, y_test, w_test)\n",
    "\n",
    "train_loader = DataLoader(train_dataset, batch_size=batch_size, shuffle=True)\n",
    "test_loader = DataLoader(test_dataset, batch_size=batch_size, shuffle=False)\n",
    "\n",
    "# --- DragonNet Model ---\n",
    "class DragonNet(nn.Module):\n",
    "    def __init__(self, input_dim):\n",
    "        super(DragonNet, self).__init__()\n",
    "        self.shared = nn.Sequential(\n",
    "            nn.Linear(input_dim, 200),\n",
    "            nn.ReLU(),\n",
    "            nn.Linear(200, 100),\n",
    "            nn.ReLU(),\n",
    "            nn.Linear(100, 100),\n",
    "            nn.ReLU()\n",
    "        )\n",
    "        self.propensity_head = nn.Sequential(nn.Linear(100, 1), nn.Sigmoid())\n",
    "        self.outcome_head_0 = nn.Sequential(nn.Linear(100, 1))\n",
    "        self.outcome_head_1 = nn.Sequential(nn.Linear(100, 1))\n",
    "\n",
    "    def forward(self, x):\n",
    "        representation = self.shared(x)\n",
    "        e_x = self.propensity_head(representation)\n",
    "        y0 = self.outcome_head_0(representation)\n",
    "        y1 = self.outcome_head_1(representation)\n",
    "        return e_x, y0, y1\n",
    "\n",
    "def targeted_regularization_loss(e_x, y0_pred, y1_pred, Y, T):\n",
    "    e_x = torch.clamp(e_x, 1e-6, 1 - 1e-6)  # Prevent division by zero\n",
    "    weight = (T - e_x) / (e_x * (1 - e_x))\n",
    "    residual = Y - (T * y1_pred + (1 - T) * y0_pred)\n",
    "    t_loss = torch.mean((residual - weight * residual) ** 2)\n",
    "    return t_loss\n",
    "\n",
    "# Initialize model\n",
    "input_dim = X_train.shape[1]\n",
    "model = DragonNet(input_dim).to(device)\n",
    "\n",
    "# Optimizer and loss function\n",
    "optimizer = optim.Adam(model.parameters(), lr=0.001)\n",
    "\n",
    "# --- Train DragonNet with Mini-batch Training ---\n",
    "num_epochs = 50\n",
    "for epoch in range(num_epochs):\n",
    "    model.train()\n",
    "    total_loss = 0\n",
    "\n",
    "    for batch_X, batch_y, batch_w in train_loader:\n",
    "        batch_X, batch_y, batch_w = batch_X.to(device), batch_y.to(device), batch_w.to(device)\n",
    "\n",
    "        optimizer.zero_grad()\n",
    "        e_x, y0_pred, y1_pred = model(batch_X)\n",
    "        loss = targeted_regularization_loss(e_x, y0_pred, y1_pred, batch_y, batch_w)\n",
    "        loss.backward()\n",
    "        optimizer.step()\n",
    "        total_loss += loss.item()\n",
    "\n",
    "    if epoch % 5 == 0:\n",
    "        print(f\"Epoch {epoch}: Avg Loss = {total_loss / len(train_loader):.4f}\")\n",
    "\n",
    "# --- Evaluate DragonNet ---\n",
    "model.eval()\n",
    "tau_hat_dragonnet = []\n",
    "\n",
    "with torch.no_grad():\n",
    "    for batch_X, _, _ in test_loader:\n",
    "        batch_X = batch_X.to(device)\n",
    "        e_x_test, y0_pred_test, y1_pred_test = model(batch_X)\n",
    "        tau_hat_dragonnet.extend((y1_pred_test - y0_pred_test).cpu().numpy())\n",
    "\n",
    "tau_hat_dragonnet = np.array(tau_hat_dragonnet).flatten()\n",
    "\n",
    "# --- Compare with True Treatment Effects ---\n",
    "mae_dragonnet = mean_absolute_error(tau_test, tau_hat_dragonnet)\n",
    "print(f\"\\nMean Absolute Error for DragonNet: {mae_dragonnet:.4f}\")\n"
   ]
  },
  {
   "cell_type": "code",
   "execution_count": null,
   "id": "c9ef1712-3229-4de3-8ee9-6c624217ba67",
   "metadata": {},
   "outputs": [],
   "source": []
  }
 ],
 "metadata": {
  "kernelspec": {
   "display_name": "Python 3 (ipykernel)",
   "language": "python",
   "name": "python3"
  },
  "language_info": {
   "codemirror_mode": {
    "name": "ipython",
    "version": 3
   },
   "file_extension": ".py",
   "mimetype": "text/x-python",
   "name": "python",
   "nbconvert_exporter": "python",
   "pygments_lexer": "ipython3",
   "version": "3.9.6"
  }
 },
 "nbformat": 4,
 "nbformat_minor": 5
}
